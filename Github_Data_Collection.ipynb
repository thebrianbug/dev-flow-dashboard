{
  "cells": [
    {
      "cell_type": "markdown",
      "metadata": {
        "id": "NInzpjkSsyYY"
      },
      "source": [
        "# Flow Metrics\n",
        "\n",
        "This workbook generates reports on flow metric from a given GitHub repo using the Github API.\n",
        "\n",
        "Author: [Brian McIlwain](mailto:brian@poq.gg)"
      ]
    },
    {
      "cell_type": "markdown",
      "metadata": {
        "id": "QlHcVCDNYSiP"
      },
      "source": [
        "## Setup\n",
        "\n",
        "This gets data from the [Github GraphQL API](https://docs.github.com/en/graphql/overview/about-the-graphql-api) to create reports for flow metrics"
      ]
    },
    {
      "cell_type": "markdown",
      "metadata": {
        "id": "CeRp5p1-MFgJ"
      },
      "source": [
        "### Imports, utils, & globals"
      ]
    },
    {
      "cell_type": "code",
      "execution_count": 1,
      "metadata": {
        "id": "3nFFa4fIseD9"
      },
      "outputs": [
        {
          "name": "stdout",
          "output_type": "stream",
          "text": [
            "Repo: weiks/esports-backend\n",
            "\n"
          ]
        }
      ],
      "source": [
        "from dateutil.relativedelta import relativedelta, SU\n",
        "from datetime import date\n",
        "from functools import reduce\n",
        "import numpy as np\n",
        "import pandas as pd\n",
        "from gql.transport.aiohttp import AIOHTTPTransport\n",
        "from gql import gql, Client\n",
        "from os import environ\n",
        "from dotenv import load_dotenv\n",
        "\n",
        "load_dotenv()\n",
        "API_SECRET_TOKEN = environ.get('API_SECRET_TOKEN')\n",
        "\n",
        "if not API_SECRET_TOKEN:\n",
        "    raise Exception(\n",
        "        'API_SECRET_TOKEN is not defined as an environmental variable')\n",
        "\n",
        "# Config for repo\n",
        "API_URL = \"https://api.github.com/graphql\"\n",
        "REPO_OWNER = \"weiks\"\n",
        "REPO_NAME = \"esports-backend\"\n",
        "MAX_WEEK_ISSUES = 100  # API limit, shouldn't be hit\n",
        "MAX_PAGINATION_LIMIT = 100  # Set by API, I wish it was larger\n",
        "MAX_LABEL_LIMIT = 20  # Max labels per PR\n",
        "\n",
        "print(f\"Repo: {REPO_OWNER}/{REPO_NAME}\\n\")\n",
        "\n",
        "# Prep to run GQL calls\n",
        "headers = {\"Authorization\": f\"Bearer {API_SECRET_TOKEN}\"}\n",
        "transport = AIOHTTPTransport(url=API_URL, headers=headers)\n",
        "\n",
        "\n",
        "async def runQuery(query, variable_values=None):\n",
        "    # Create a GraphQL client using the defined transport\n",
        "    # Using `async with` on the client will start a connection on the transport\n",
        "    # and provide a `session` variable to execute queries on this connection\n",
        "    async with Client(\n",
        "        transport=transport,\n",
        "        fetch_schema_from_transport=True,\n",
        "    ) as session:\n",
        "        # Execute the query on the transport\n",
        "        result = await session.execute(query, variable_values)\n",
        "        return result\n",
        "\n",
        "\n",
        "def get_previous_sunday(working_date=date.today()):\n",
        "    last_sunday = working_date + relativedelta(weekday=SU(-1))\n",
        "    return last_sunday.strftime(\"%Y-%m-%d\")\n",
        "\n",
        "\n",
        "def unwrap_name(d):\n",
        "    return d['name']\n",
        "\n",
        "\n",
        "def unwrap_login(d):\n",
        "    return d['login']\n",
        "\n",
        "\n",
        "def clean_issue_data(issue):\n",
        "    issue['labels'] = set(map(unwrap_name, issue['labels']['nodes']))\n",
        "    issue['assignees'] = set(map(unwrap_login, issue['assignees']['nodes']))\n",
        "    return issue\n",
        "\n",
        "\n",
        "def clean_PR_data(pr):\n",
        "    pr['author'] = pr['author']['login']\n",
        "    pr['assignees'] = set(map(unwrap_login, pr['assignees']['nodes']))\n",
        "    pr['assignees'].add(pr['author'])  # Author is an assignee by default\n",
        "    pr['issues'] = list(map(clean_issue_data, pr['issues']['nodes']))\n",
        "    pr['labels'] = set(map(unwrap_name, pr['labels']['nodes']))\n",
        "    pr['labels'].discard('trigger-ci')  # Ignore trigger-ci\n",
        "\n",
        "    # Apply parent issue labels to the PR\n",
        "    if pr['issues']:\n",
        "        issues_labels = list(map(lambda issue: issue['labels'], pr['issues']))\n",
        "        flat_issues_labels = reduce(lambda a, b: a.union(b), issues_labels)\n",
        "        pr['labels'] = pr['labels'].union(flat_issues_labels)\n",
        "\n",
        "    return pr\n"
      ]
    },
    {
      "cell_type": "markdown",
      "metadata": {
        "id": "r1cop2_V8BNw"
      },
      "source": [
        "## Get PRs Data"
      ]
    },
    {
      "cell_type": "code",
      "execution_count": null,
      "metadata": {
        "colab": {
          "base_uri": "https://localhost:8080/"
        },
        "id": "LiEyMWBb8FTH",
        "outputId": "aa56ab44-4a45-45a6-8d1a-54caf815d2b7"
      },
      "outputs": [],
      "source": [
        "async def get_PR_data():\n",
        "    cursor = \"\"\n",
        "    prs = []\n",
        "    print('Fetching PRs, this can take a while...')\n",
        "\n",
        "    while cursor != None:\n",
        "        overviewQuery = gql(\n",
        "            f\"\"\"\n",
        "            query getRepoData {{\n",
        "              repository(owner: \"{REPO_OWNER}\", name: \"{REPO_NAME}\") {{\n",
        "                pullRequests(\n",
        "                  first: {MAX_PAGINATION_LIMIT},\n",
        "                  orderBy: {{ field: UPDATED_AT, direction: DESC }}\n",
        "                  { f'after: \"{cursor}\"' if cursor else '' }\n",
        "                ) {{\n",
        "                  pageInfo {{\n",
        "                    hasNextPage\n",
        "                    endCursor\n",
        "                  }}\n",
        "                  nodes {{\n",
        "                    title\n",
        "                    author {{\n",
        "                      login\n",
        "                    }}\n",
        "                    assignees(first: 10) {{\n",
        "                      nodes {{\n",
        "                        login\n",
        "                      }}\n",
        "                    }}\n",
        "                    number\n",
        "                    url\n",
        "                    state\n",
        "                    closedAt\n",
        "                    createdAt\n",
        "                    updatedAt\n",
        "                    labels(first: {MAX_LABEL_LIMIT}) {{\n",
        "                      nodes {{\n",
        "                        name\n",
        "                      }}\n",
        "                    }}\n",
        "                    issues: closingIssuesReferences(first: {MAX_LABEL_LIMIT}) {{\n",
        "                      nodes {{\n",
        "                        assignees(first: 10) {{\n",
        "                          nodes {{\n",
        "                            login\n",
        "                          }}\n",
        "                        }}\n",
        "                        labels(first: {MAX_LABEL_LIMIT}) {{\n",
        "                          nodes {{\n",
        "                            name\n",
        "                          }}\n",
        "                        }}\n",
        "                        number\n",
        "                        title\n",
        "                        url\n",
        "                        state\n",
        "                        updatedAt\n",
        "                      }}\n",
        "                    }}\n",
        "                  }}\n",
        "                }}\n",
        "              }}\n",
        "            }}\n",
        "            \"\"\")\n",
        "        result = await runQuery(overviewQuery)\n",
        "        prs += result['repository']['pullRequests']['nodes']\n",
        "        cursor = result['repository']['pullRequests']['pageInfo']['endCursor']\n",
        "    prs = list(map(clean_PR_data, prs))\n",
        "    prsDF = pd.DataFrame(prs)\n",
        "    prsDF.to_csv('prs_data.csv', index=False)\n",
        "    return prsDF\n",
        "\n",
        "await get_PR_data()\n"
      ]
    },
    {
      "cell_type": "markdown",
      "metadata": {},
      "source": [
        "## Get Issue Data"
      ]
    },
    {
      "cell_type": "code",
      "execution_count": null,
      "metadata": {},
      "outputs": [],
      "source": [
        "async def get_issue_data():\n",
        "    cursor = \"\"\n",
        "    issues = []\n",
        "    print('Fetching issues, this can take a while...')\n",
        "\n",
        "    while cursor != None:\n",
        "        overviewQuery = gql(\n",
        "            f\"\"\"\n",
        "            query getRepoData {{\n",
        "              repository(owner: \"{REPO_OWNER}\", name: \"{REPO_NAME}\") {{\n",
        "                issues(\n",
        "                  first: {MAX_PAGINATION_LIMIT}, \n",
        "                  orderBy: {{ field: UPDATED_AT, direction: DESC }}\n",
        "                  { f'after: \"{cursor}\"' if cursor else '' }\n",
        "                ) {{\n",
        "                  pageInfo {{\n",
        "                    hasNextPage\n",
        "                    endCursor\n",
        "                  }}\n",
        "                  nodes {{\n",
        "                    title\n",
        "                    author {{\n",
        "                      login\n",
        "                    }}\n",
        "                    assignees(first: 10) {{\n",
        "                      nodes {{\n",
        "                        login\n",
        "                      }}\n",
        "                    }}\n",
        "                    number\n",
        "                    url\n",
        "                    state\n",
        "                    closedAt\n",
        "                    createdAt\n",
        "                    updatedAt\n",
        "                    labels(first: {MAX_LABEL_LIMIT}) {{\n",
        "                      nodes {{\n",
        "                        name\n",
        "                      }}\n",
        "                    }}\n",
        "                  }}\n",
        "                }}\n",
        "              }}\n",
        "            }}\n",
        "            \"\"\")\n",
        "        result = await runQuery(overviewQuery)\n",
        "        issues += result['repository']['issues']['nodes']\n",
        "        cursor = result['repository']['issues']['pageInfo']['endCursor']\n",
        "    issues = list(map(clean_issue_data, issues))\n",
        "    issuesDF = pd.DataFrame(issues)\n",
        "    issuesDF.to_csv('issues_data.csv', index=False)\n",
        "    return issuesDF\n",
        "\n",
        "await get_issue_data()\n"
      ]
    }
  ],
  "metadata": {
    "colab": {
      "collapsed_sections": [
        "9yRpUAPkLs0Q",
        "3Ea9LqOxL28Y",
        "CeRp5p1-MFgJ"
      ],
      "name": "Flow_Dashboard_Github_Data_Collection.ipynb",
      "provenance": []
    },
    "kernelspec": {
      "display_name": "Python 3.9.12 ('base')",
      "language": "python",
      "name": "python3"
    },
    "language_info": {
      "codemirror_mode": {
        "name": "ipython",
        "version": 3
      },
      "file_extension": ".py",
      "mimetype": "text/x-python",
      "name": "python",
      "nbconvert_exporter": "python",
      "pygments_lexer": "ipython3",
      "version": "3.9.12"
    },
    "vscode": {
      "interpreter": {
        "hash": "4b35de93437b5e35290d7c925c9e013f8475450981ad1420653dd234db252a32"
      }
    }
  },
  "nbformat": 4,
  "nbformat_minor": 0
}
