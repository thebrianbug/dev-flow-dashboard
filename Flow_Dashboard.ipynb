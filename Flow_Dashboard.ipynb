{
 "cells": [
  {
   "cell_type": "markdown",
   "metadata": {},
   "source": [
    "# Flow Dashboard\n",
    "\n",
    "Display visualizations from Github data."
   ]
  },
  {
   "cell_type": "markdown",
   "metadata": {},
   "source": [
    "## Setup"
   ]
  },
  {
   "cell_type": "code",
   "execution_count": 1,
   "metadata": {},
   "outputs": [],
   "source": [
    "import pandas as pd\n",
    "import matplotlib.pyplot as plt\n",
    "import numpy as np\n",
    "from functools import reduce\n",
    "\n",
    "# Date tools\n",
    "from datetime import date\n",
    "from dateutil.relativedelta import relativedelta, SU\n",
    "\n",
    "# Prep Plots\n",
    "\n",
    "# Bigger text\n",
    "plt.rc('font', size=12)\n",
    "\n",
    "def plotPie(df, title, xLabel):\n",
    "  def label_point(pct, allvals):\n",
    "    absolute = int(np.round(pct/100.*np.sum(allvals)))\n",
    "    return \"{:.1f}%\\n({:d})\".format(pct, absolute)\n",
    "\n",
    "  print()\n",
    "  plt.figure(figsize = (10, 5))\n",
    "  plt.title(title, fontsize = 20)\n",
    "  df.sum().plot(kind='pie', legend=False, \n",
    "                autopct=lambda pct: label_point(pct, df.sum()),\n",
    "                pctdistance=1.16, labeldistance=.4)\n",
    "  plt.ylabel(None) # Clear yLabel\n",
    "  plt.xlabel(xLabel, fontsize = 16)\n",
    "  plt.show()\n",
    "\n",
    "# Date utils\n",
    "def get_previous_sunday(working_date=date.today()):\n",
    "    last_sunday = working_date + relativedelta(weekday=SU(-1))\n",
    "    return last_sunday.strftime(\"%Y-%m-%d\")"
   ]
  }
 ],
 "metadata": {
  "kernelspec": {
   "display_name": "Python 3.9.12 ('base')",
   "language": "python",
   "name": "python3"
  },
  "language_info": {
   "codemirror_mode": {
    "name": "ipython",
    "version": 3
   },
   "file_extension": ".py",
   "mimetype": "text/x-python",
   "name": "python",
   "nbconvert_exporter": "python",
   "pygments_lexer": "ipython3",
   "version": "3.9.12"
  },
  "orig_nbformat": 4,
  "vscode": {
   "interpreter": {
    "hash": "4b35de93437b5e35290d7c925c9e013f8475450981ad1420653dd234db252a32"
   }
  }
 },
 "nbformat": 4,
 "nbformat_minor": 2
}
