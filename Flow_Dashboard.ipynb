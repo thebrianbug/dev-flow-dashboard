{
 "cells": [
  {
   "cell_type": "markdown",
   "metadata": {},
   "source": [
    "# Flow Dashboard\n",
    "\n",
    "Display visualizations from Github data.\n"
   ]
  },
  {
   "cell_type": "markdown",
   "metadata": {},
   "source": [
    "## Setup"
   ]
  },
  {
   "cell_type": "code",
   "execution_count": null,
   "metadata": {},
   "outputs": [],
   "source": [
    "import pandas as pd\n",
    "import matplotlib.pyplot as plt\n",
    "import numpy as np\n",
    "from functools import reduce\n",
    "\n",
    "# Date tools\n",
    "from datetime import date\n",
    "from dateutil.relativedelta import relativedelta, SU\n",
    "\n",
    "# Prep Plots\n",
    "\n",
    "# Bigger text\n",
    "plt.rc('font', size=12)\n",
    "\n",
    "\n",
    "def plotPie(df, title, xLabel):\n",
    "    def label_point(pct, allvals):\n",
    "        absolute = int(np.round(pct/100.*np.sum(allvals)))\n",
    "        return \"{:.1f}%\\n({:d})\".format(pct, absolute)\n",
    "\n",
    "    print()\n",
    "    plt.figure(figsize=(10, 5))\n",
    "    plt.title(title, fontsize=20)\n",
    "    df.sum().plot(kind='pie', legend=False,\n",
    "                  autopct=lambda pct: label_point(pct, df.sum()),\n",
    "                  pctdistance=1.16, labeldistance=.4)\n",
    "    plt.ylabel(None)  # Clear yLabel\n",
    "    plt.xlabel(xLabel, fontsize=16)\n",
    "    plt.show()\n",
    "\n",
    "# Date utils\n",
    "\n",
    "\n",
    "def get_previous_sunday(working_date=date.today()):\n",
    "    last_sunday = working_date + relativedelta(weekday=SU(-1))\n",
    "    return last_sunday.strftime(\"%Y-%m-%d\")\n",
    "\n",
    "# Plot utils\n",
    "\n",
    "\n",
    "def plot_line(df, title, xlabel, ylabel, lines):\n",
    "    plt.figure(figsize=(20, 10), facecolor='white')\n",
    "    plt.title(title, fontsize=20)\n",
    "    for l in lines:\n",
    "        df[l['col']].plot(color=l['color'], label=l['label'],\n",
    "                          legend=True).set_ybound(0)\n",
    "\n",
    "    plt.xlabel(xlabel)\n",
    "    plt.ylabel(ylabel)\n",
    "    plt.show()\n",
    "\n",
    "\n",
    "# DF utils\n",
    "\n",
    "def pivot_with_zeros(df, index, columns, values):\n",
    "    df = df.pivot(index, columns, values)\n",
    "\n",
    "    # Replace NaN\n",
    "    df = df.fillna(0)\n",
    "\n",
    "    return df\n",
    "\n",
    "\n",
    "prs = pd.read_csv('prs_data.csv', parse_dates=[\n",
    "                  'closedAt', 'createdAt', 'updatedAt']).set_index('number')\n",
    "\n",
    "prs\n"
   ]
  },
  {
   "cell_type": "markdown",
   "metadata": {},
   "source": [
    "## PRs Over Time"
   ]
  },
  {
   "cell_type": "code",
   "execution_count": null,
   "metadata": {},
   "outputs": [],
   "source": [
    "# Count CLOSED/MERGED items per week\n",
    "weekly_prs = prs.set_index('closedAt').groupby(\n",
    "    [pd.Grouper(freq='W', label='left'), pd.Grouper('state')])['state'].count().reset_index(name='count')\n",
    "\n",
    "weekly_prs_pivot = pivot_with_zeros(weekly_prs, 'closedAt', 'state', 'count')\n",
    "\n",
    "plot_line(weekly_prs_pivot, 'PRs Closed Over Time', 'Closed At', 'Count', [\n",
    "          {'col': 'MERGED', 'color': 'blue', 'label': 'Merged'}, {'col': 'CLOSED', 'color': 'red', 'label': 'Abandoned'}])\n",
    "\n",
    "# Filter to current year\n",
    "weekly_prs_year = weekly_prs[weekly_prs['closedAt'].dt.year == date.today(\n",
    ").year]\n",
    "\n",
    "weekly_prs_pivot_year = pivot_with_zeros(\n",
    "    weekly_prs_year, 'closedAt', 'state', 'count')\n",
    "\n",
    "plot_line(weekly_prs_pivot_year, 'PRs Closed Over Time - Current Year', 'Closed At', 'Count', [\n",
    "          {'col': 'MERGED', 'color': 'blue', 'label': 'Merged'}, {'col': 'CLOSED', 'color': 'red', 'label': 'Abandoned'}])\n"
   ]
  },
  {
   "cell_type": "markdown",
   "metadata": {},
   "source": [
    "### Total PRs Over Time"
   ]
  },
  {
   "cell_type": "markdown",
   "metadata": {},
   "source": [
    "## Issues Over Time"
   ]
  },
  {
   "cell_type": "markdown",
   "metadata": {},
   "source": [
    "### Bugs Opened & Closed Over Time"
   ]
  },
  {
   "cell_type": "markdown",
   "metadata": {},
   "source": [
    "### Enhancements Closed Over Time"
   ]
  }
 ],
 "metadata": {
  "kernelspec": {
   "display_name": "Python 3.9.12 ('base')",
   "language": "python",
   "name": "python3"
  },
  "language_info": {
   "codemirror_mode": {
    "name": "ipython",
    "version": 3
   },
   "file_extension": ".py",
   "mimetype": "text/x-python",
   "name": "python",
   "nbconvert_exporter": "python",
   "pygments_lexer": "ipython3",
   "version": "3.9.12"
  },
  "orig_nbformat": 4,
  "vscode": {
   "interpreter": {
    "hash": "4b35de93437b5e35290d7c925c9e013f8475450981ad1420653dd234db252a32"
   }
  }
 },
 "nbformat": 4,
 "nbformat_minor": 2
}
