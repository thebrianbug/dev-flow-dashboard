{
 "cells": [
  {
   "cell_type": "markdown",
   "metadata": {},
   "source": [
    "# Flow Dashboard\n",
    "\n",
    "Display visualizations from Github data.\n"
   ]
  },
  {
   "cell_type": "markdown",
   "metadata": {},
   "source": [
    "## Setup"
   ]
  },
  {
   "cell_type": "code",
   "execution_count": null,
   "metadata": {},
   "outputs": [],
   "source": [
    "import pandas as pd\n",
    "import matplotlib.pyplot as plt\n",
    "import numpy as np\n",
    "\n",
    "# Date tools\n",
    "from datetime import date, datetime, timezone\n",
    "from dateutil.relativedelta import relativedelta, SU\n",
    "\n",
    "# Prep Plots\n",
    "\n",
    "# Bigger text\n",
    "plt.rc('font', size=12)\n",
    "\n",
    "\n",
    "def plotPie(df, title, xLabel):\n",
    "    def label_point(pct, allvals):\n",
    "        absolute = int(np.round(pct/100.*np.sum(allvals)))\n",
    "        return \"{:.1f}%\\n({:d})\".format(pct, absolute)\n",
    "\n",
    "    print()\n",
    "    plt.figure(figsize=(10, 5))\n",
    "    plt.title(title, fontsize=20)\n",
    "    df.sum().plot(kind='pie', legend=False,\n",
    "                  autopct=lambda pct: label_point(pct, df.sum()),\n",
    "                  pctdistance=1.16, labeldistance=.4)\n",
    "    plt.ylabel(None)  # Clear yLabel\n",
    "    plt.xlabel(xLabel, fontsize=16)\n",
    "    plt.show()\n",
    "\n",
    "# Date utils\n",
    "\n",
    "\n",
    "def get_previous_sunday(working_date=date.today()):\n",
    "    last_sunday = working_date + relativedelta(weekday=SU(-1))\n",
    "    return last_sunday.strftime(\"%Y-%m-%d\")\n",
    "\n",
    "# Plot utils\n",
    "\n",
    "\n",
    "def plot_line(df, title, xlabel, ylabel, lines):\n",
    "    plt.figure(figsize=(20, 10), facecolor='white')\n",
    "    plt.title(title, fontsize=20)\n",
    "    for l in lines:\n",
    "        df[l['col']].plot(color=l['color'], label=l['label'],\n",
    "                          legend=True).set_ybound(0)\n",
    "\n",
    "    plt.xlabel(xlabel)\n",
    "    plt.ylabel(ylabel)\n",
    "    plt.show()\n",
    "\n",
    "\n",
    "def plot_bar(df, title, xlabel, ylabel, lines):\n",
    "    plt.figure(figsize=(20, 10), facecolor='white')\n",
    "    plt.title(title, fontsize=20)\n",
    "    for l in lines:\n",
    "        df[l['col']].plot(kind='bar', color=l['color'], legend=True)\n",
    "\n",
    "    plt.xlabel(xlabel)\n",
    "    plt.ylabel(ylabel)\n",
    "    plt.show()\n",
    "\n",
    "\n",
    "# DF utils\n",
    "\n",
    "def pivot_with_zeros(df, index, columns, values):\n",
    "    df = df.pivot(index, columns, values)\n",
    "\n",
    "    # Replace NaN\n",
    "    df = df.fillna(0)\n",
    "\n",
    "    return df\n"
   ]
  },
  {
   "cell_type": "code",
   "execution_count": null,
   "metadata": {},
   "outputs": [],
   "source": [
    "# Read PRs\n",
    "prs = pd.read_csv('prs_data.csv', parse_dates=[\n",
    "                  'closedAt', 'createdAt', 'updatedAt']).set_index('number')\n",
    "\n",
    "# Calculate durations\n",
    "prs['hoursFromOpen'] = (datetime.now(timezone.utc) - prs['createdAt']) / \\\n",
    "    np.timedelta64(1, 'h')\n",
    "prs['hoursToClose'] = (prs['closedAt'] - prs['createdAt']) / \\\n",
    "    np.timedelta64(1, 'h')\n",
    "\n",
    "prs\n"
   ]
  },
  {
   "cell_type": "code",
   "execution_count": null,
   "metadata": {},
   "outputs": [],
   "source": [
    "# Read Issues\n",
    "issues = pd.read_csv('issues_data.csv', parse_dates=[\n",
    "    'closedAt', 'createdAt', 'updatedAt']).set_index('number')\n",
    "\n",
    "# Calculate durations\n",
    "issues['daysFromOpen'] = ((datetime.now(timezone.utc)) - issues['createdAt']) / \\\n",
    "    np.timedelta64(1, 'D')\n",
    "issues['daysToClose'] = (issues['openedAt'] - issues['createdAt']) / \\\n",
    "    np.timedelta64(1, 'D')\n",
    "\n",
    "issues\n"
   ]
  },
  {
   "cell_type": "markdown",
   "metadata": {},
   "source": [
    "## Work In Progress (WIP)"
   ]
  },
  {
   "cell_type": "markdown",
   "metadata": {},
   "source": [
    "## PRs Over Time"
   ]
  },
  {
   "cell_type": "code",
   "execution_count": null,
   "metadata": {},
   "outputs": [],
   "source": [
    "open_prs = prs[prs[\"state\"] == 'OPEN']\n",
    "\n",
    "open_prs"
   ]
  },
  {
   "cell_type": "markdown",
   "metadata": {},
   "source": [
    "### Total PRs Over Time"
   ]
  },
  {
   "cell_type": "code",
   "execution_count": null,
   "metadata": {},
   "outputs": [],
   "source": [
    "# Count CLOSED/MERGED items per week\n",
    "weekly_prs = prs.set_index('closedAt').groupby(\n",
    "    [pd.Grouper(freq='W', label='left'), pd.Grouper('state')])['state'].count().reset_index(name='count')\n",
    "\n",
    "weekly_prs_pivot = pivot_with_zeros(weekly_prs, 'closedAt', 'state', 'count')\n",
    "\n",
    "plot_line(weekly_prs_pivot, 'PRs Closed Over Time', 'Closed At', 'Count', [\n",
    "          {'col': 'MERGED', 'color': 'blue', 'label': 'Merged'}, {'col': 'CLOSED', 'color': 'red', 'label': 'Abandoned'}])\n",
    "\n",
    "# Filter to current year\n",
    "weekly_prs_year = weekly_prs[weekly_prs['closedAt'].dt.year == date.today(\n",
    ").year]\n",
    "\n",
    "weekly_prs_pivot_year = pivot_with_zeros(\n",
    "    weekly_prs_year, 'closedAt', 'state', 'count')\n",
    "\n",
    "plot_line(weekly_prs_pivot_year, 'PRs Closed Over Time - Current Year', 'Closed At', 'Count', [\n",
    "          {'col': 'MERGED', 'color': 'blue', 'label': 'Merged'}, {'col': 'CLOSED', 'color': 'red', 'label': 'Abandoned'}])\n"
   ]
  },
  {
   "cell_type": "markdown",
   "metadata": {},
   "source": [
    "### Average Duration of PRs"
   ]
  },
  {
   "cell_type": "code",
   "execution_count": null,
   "metadata": {},
   "outputs": [],
   "source": [
    "weekly_prs = prs.set_index('closedAt').groupby(\n",
    "    [pd.Grouper(freq='W', label='left'), pd.Grouper('state')])['hoursToClose'].mean().reset_index(name='avgHoursToClose')\n",
    "\n",
    "weekly_prs_pivot = weekly_prs.pivot('closedAt', 'state', 'avgHoursToClose')\n",
    "weekly_prs_pivot = weekly_prs_pivot.fillna(0)\n",
    "\n",
    "plot_line(weekly_prs_pivot, 'PRs Average Time to Close - Merged', 'Closed At', 'Average Hours to Close', [\n",
    "          {'col': 'MERGED', 'color': 'blue', 'label': 'Merged'}])\n",
    "\n",
    "# Filter to current year\n",
    "weekly_prs_year = weekly_prs[weekly_prs['closedAt'].dt.year == date.today(\n",
    ").year]\n",
    "weekly_prs_pivot_year = pivot_with_zeros(\n",
    "    weekly_prs_year, 'closedAt', 'state', 'avgHoursToClose')\n",
    "\n",
    "plot_line(weekly_prs_pivot_year, 'PRs Average Time to Close - Merged (Current Year)', 'Closed At', 'Average Hours to Close', [\n",
    "          {'col': 'MERGED', 'color': 'blue', 'label': 'Merged'}])\n",
    "\n",
    "plot_line(weekly_prs_pivot, 'PRs Average Time to Close - Abandoned', 'Closed At', 'Average Hours to Close', [\n",
    "          {'col': 'CLOSED', 'color': 'red', 'label': 'Abandoned'}])\n",
    "\n",
    "plot_line(weekly_prs_pivot_year, 'PRs Average Time to Close - Abandoned (Current Year)', 'Closed At', 'Average Hours to Close', [\n",
    "          {'col': 'CLOSED', 'color': 'red', 'label': 'Abandoned'}])\n"
   ]
  },
  {
   "cell_type": "markdown",
   "metadata": {},
   "source": [
    "## Issues Over Time"
   ]
  },
  {
   "cell_type": "markdown",
   "metadata": {},
   "source": [
    "### Total Issues Over Time"
   ]
  },
  {
   "cell_type": "code",
   "execution_count": null,
   "metadata": {},
   "outputs": [],
   "source": [
    "weekly_closed_issues = issues.set_index('closedAt').groupby(\n",
    "    pd.Grouper(freq='W', label='left'))['state'].count().reset_index(name='closed')\n",
    "\n",
    "weekly_closed_issues.rename(columns={'closedAt': 'date'}, inplace=True)\n",
    "\n",
    "weekly_created_issues = issues.set_index('createdAt').groupby(\n",
    "    pd.Grouper(freq='W', label='left'))['state'].count().reset_index(name='opened')\n",
    "\n",
    "weekly_created_issues.rename(columns={'createdAt': 'date'}, inplace=True)\n",
    "\n",
    "weekly_issues = weekly_closed_issues.merge(\n",
    "    weekly_created_issues, how='outer', on='date').set_index('date').sort_index()\n",
    "\n",
    "# Replace NaN\n",
    "weekly_issues = weekly_issues.fillna(0)\n",
    "\n",
    "# Filter to current year\n",
    "weekly_issues = weekly_issues[weekly_issues.index.year == date.today().year]\n",
    "\n",
    "# Only keep date\n",
    "weekly_issues.index = weekly_issues.index.date\n",
    "\n",
    "plot_bar(weekly_issues, 'Issues Over Time', 'Date', 'Count', [\n",
    "         {'col': 'opened', 'color': 'blue'}, {'col': 'closed', 'color': 'green'}])\n"
   ]
  },
  {
   "cell_type": "markdown",
   "metadata": {},
   "source": [
    "### Average Duration of Issues"
   ]
  },
  {
   "cell_type": "code",
   "execution_count": null,
   "metadata": {},
   "outputs": [],
   "source": [
    "weekly_closed_issues = issues.set_index('closedAt').groupby(\n",
    "    pd.Grouper(freq='W', label='left'))['daysToClose'].mean().reset_index(name='avgDaysToClose')\n",
    "\n",
    "# Set index\n",
    "weekly_closed_issues.index = weekly_closed_issues['closedAt']\n",
    "\n",
    "# Clear first value to fix axis\n",
    "weekly_closed_issues.at['2022-01-30', 'avgDaysToClose'] = np.nan\n",
    "\n",
    "# Filter to current year\n",
    "weekly_closed_issues = weekly_closed_issues[weekly_closed_issues.index.year == date.today(\n",
    ").year]\n",
    "\n",
    "plot_line(weekly_closed_issues, 'Issues Average Time to Close', 'Closed At', 'Average Days to Close', [\n",
    "    {'col': 'avgDaysToClose', 'color': 'blue', 'label': None}])\n"
   ]
  },
  {
   "cell_type": "markdown",
   "metadata": {},
   "source": [
    "### Bugs Opened & Closed Over Time"
   ]
  },
  {
   "cell_type": "code",
   "execution_count": null,
   "metadata": {},
   "outputs": [],
   "source": [
    "bugs = issues[issues['labels'].str.contains('bug')]\n",
    "\n",
    "weekly_closed_bugs = bugs.set_index('closedAt').groupby(\n",
    "    pd.Grouper(freq='W', label='left'))['state'].count().reset_index(name='closed')\n",
    "\n",
    "weekly_closed_bugs.rename(columns={'closedAt': 'date'}, inplace=True)\n",
    "\n",
    "weekly_created_bugs = bugs.set_index('createdAt').groupby(\n",
    "    pd.Grouper(freq='W', label='left'))['state'].count().reset_index(name='opened')\n",
    "\n",
    "weekly_created_bugs.rename(columns={'createdAt': 'date'}, inplace=True)\n",
    "\n",
    "weekly_bugs = weekly_closed_bugs.merge(\n",
    "    weekly_created_bugs, how='outer', on='date').set_index('date').sort_index()\n",
    "\n",
    "# Replace NaN\n",
    "weekly_bugs = weekly_bugs.fillna(0)\n",
    "\n",
    "# Filter to current year\n",
    "weekly_bugs = weekly_bugs[weekly_bugs.index.year == date.today().year]\n",
    "\n",
    "# Only keep date\n",
    "weekly_bugs.index = weekly_bugs.index.date\n",
    "\n",
    "plot_bar(weekly_bugs, 'Bugs Over Time', 'Date', 'Count', [\n",
    "         {'col': 'opened', 'color': 'red'}, {'col': 'closed', 'color': 'green'}])\n"
   ]
  },
  {
   "cell_type": "markdown",
   "metadata": {},
   "source": [
    "### Enhancements Opened & Closed Over Time"
   ]
  },
  {
   "cell_type": "code",
   "execution_count": null,
   "metadata": {},
   "outputs": [],
   "source": [
    "enhancements = issues[issues['labels'].str.contains('enhancement')]\n",
    "\n",
    "weekly_closed_enhancements = enhancements.set_index('closedAt').groupby(\n",
    "    pd.Grouper(freq='W', label='left'))['state'].count().reset_index(name='closed')\n",
    "\n",
    "weekly_closed_enhancements.rename(columns={'closedAt': 'date'}, inplace=True)\n",
    "\n",
    "weekly_created_enhancements = enhancements.set_index('createdAt').groupby(\n",
    "    pd.Grouper(freq='W', label='left'))['state'].count().reset_index(name='opened')\n",
    "\n",
    "weekly_created_enhancements.rename(columns={'createdAt': 'date'}, inplace=True)\n",
    "\n",
    "weekly_enhancements = weekly_closed_enhancements.merge(\n",
    "    weekly_created_bugs, how='outer', on='date').set_index('date').sort_index()\n",
    "\n",
    "# Replace NaN\n",
    "weekly_enhancements = weekly_enhancements.fillna(0)\n",
    "\n",
    "# Filter to current year\n",
    "weekly_enhancements = weekly_enhancements[weekly_enhancements.index.year == date.today(\n",
    ").year]\n",
    "\n",
    "# Only keep date\n",
    "weekly_enhancements.index = weekly_enhancements.index.date\n",
    "\n",
    "plot_bar(weekly_enhancements, 'Enhancements Over Time', 'Date', 'Count', [\n",
    "         {'col': 'opened', 'color': 'purple'}, {'col': 'closed', 'color': 'green'}])\n"
   ]
  }
 ],
 "metadata": {
  "kernelspec": {
   "display_name": "Python 3.9.12 ('base')",
   "language": "python",
   "name": "python3"
  },
  "language_info": {
   "codemirror_mode": {
    "name": "ipython",
    "version": 3
   },
   "file_extension": ".py",
   "mimetype": "text/x-python",
   "name": "python",
   "nbconvert_exporter": "python",
   "pygments_lexer": "ipython3",
   "version": "3.9.12"
  },
  "orig_nbformat": 4,
  "vscode": {
   "interpreter": {
    "hash": "4b35de93437b5e35290d7c925c9e013f8475450981ad1420653dd234db252a32"
   }
  }
 },
 "nbformat": 4,
 "nbformat_minor": 2
}
